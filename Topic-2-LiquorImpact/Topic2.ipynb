{
 "cells": [
  {
   "cell_type": "code",
   "execution_count": 1,
   "metadata": {},
   "outputs": [
    {
     "name": "stdout",
     "output_type": "stream",
     "text": [
      "CMPLNT_NUM           447372\n",
      "CMPLNT_FR_DT         447372\n",
      "CMPLNT_FR_TM         447372\n",
      "CMPLNT_TO_DT         378030\n",
      "CMPLNT_TO_TM         378226\n",
      "RPT_DT               447372\n",
      "KY_CD                447372\n",
      "OFNS_DESC            447350\n",
      "PD_CD                447106\n",
      "PD_DESC              447106\n",
      "CRM_ATPT_CPTD_CD     447372\n",
      "LAW_CAT_CD           447372\n",
      "JURIS_DESC           447372\n",
      "BORO_NM              447372\n",
      "ADDR_PCT_CD          447372\n",
      "LOC_OF_OCCUR_DESC    359946\n",
      "PREM_TYP_DESC        445655\n",
      "PARKS_NM               3956\n",
      "HADEVELOPT            23245\n",
      "X_COORD_CD           447372\n",
      "Y_COORD_CD           447372\n",
      "Latitude             447372\n",
      "Longitude            447372\n",
      "Lat_Lon              447372\n",
      "dtype: int64\n"
     ]
    }
   ],
   "source": [
    "from scipy import stats\n",
    "import pandas as pd\n",
    "import numpy as np\n",
    "import math\n",
    "import json\n",
    "from tqdm import tqdm\n",
    "from datetime import datetime, timedelta\n",
    "import matplotlib.pyplot as plt\n",
    "\n",
    "\n",
    "def crime_clean_data(df):\n",
    "    df['CMPLNT_FR_DT'] = pd.to_datetime(df['CMPLNT_FR_DT'], errors='coerce')\n",
    "    return df[(df['CMPLNT_FR_DT'] > '2017-01-01 00:00:00') & (df['CMPLNT_FR_DT'] < '2018-01-01 00:00:00') & ~df['CMPLNT_FR_DT'].isnull() & ~np.isnan(df.Latitude)]\n",
    "\n",
    "def liquor_clean_data(df):\n",
    "    df['License Effective Date'] = pd.to_datetime(df['License Effective Date'], errors='coerce')\n",
    "    return df[(df['License Effective Date'] > '2017-01-01 00:00:00') & \\\n",
    "              (df['License Effective Date'] < '2018-01-01 00:00:00') & (~df['License Effective Date'].isnull()) & \\\n",
    "              (df['Agency Zone Office Name'] == 'New York City') & (~np.isnan(df.Latitude)) & \\\n",
    "              (df['License Type Name'].str.contains('ON-PREMISES LIQUOR'))]\n",
    "\n",
    "def bounds_within_km(loc):\n",
    "    dist = 1.6 # 1km\n",
    "    radius = 6371 # Earth Radius in km\n",
    "    lat = loc[0]\n",
    "    lng = loc[1]\n",
    "    max_lat = lat + np.rad2deg(dist/float(radius))\n",
    "    min_lat = lat - np.rad2deg(dist/float(radius))\n",
    "    max_lng = lng + np.rad2deg(dist/float(radius)/math.cos(np.deg2rad(lat)))\n",
    "    min_lng = lng - np.rad2deg(dist/float(radius)/math.cos(np.deg2rad(lat)))\n",
    "    \n",
    "    return (min_lat, max_lat), (min_lng, max_lng)\n",
    "\n",
    "\n",
    "def get_within_km(loc, df):\n",
    "    lat_limits, lng_limits = bounds_within_km(loc)\n",
    "    return df[(df['Latitude'] < lat_limits[1]) & (df['Latitude'] > lat_limits[0]) & \\\n",
    "              (df['Longitude'] < lng_limits[1]) & (df['Longitude'] > lng_limits[0])]\n",
    "\n",
    "crime_df = pd.read_csv(\"complaint.csv\",delimiter=',', low_memory=False)\n",
    "crime_df= crime_clean_data(crime_df)\n",
    "print crime_df.count()\n",
    "liquor_df = pd.read_csv(\"liquor.csv\",delimiter=',', low_memory=False)\n",
    "liquor_df= liquor_clean_data(liquor_df)\n"
   ]
  },
  {
   "cell_type": "code",
   "execution_count": 2,
   "metadata": {},
   "outputs": [
    {
     "name": "stderr",
     "output_type": "stream",
     "text": [
      "100%|██████████| 5113/5113 [10:20<00:00, 10.35it/s]\n"
     ]
    }
   ],
   "source": [
    "same = 0\n",
    "diff = 0\n",
    "left_skew = 0\n",
    "equal = 0\n",
    "right_skew = 0\n",
    "\n",
    "cum_prev_dist = []\n",
    "cum_after_dist = []\n",
    "Period = 60\n",
    "with tqdm(total=len(list(liquor_df.iterrows()))) as pbar:\n",
    "    for idx, row in liquor_df.iterrows():\n",
    "        tup = eval(row['Location'])\n",
    "        \n",
    "        crime_loc_df = get_within_km(tup, crime_df)\n",
    "        \n",
    "        license_time = pd.to_datetime(row['License Effective Date'])\n",
    "        prev = license_time.to_pydatetime() + timedelta(days=-Period)\n",
    "        \n",
    "        prev_dist = []\n",
    "        after_dist = []\n",
    "        \n",
    "        for date in pd.date_range(prev, periods=Period):\n",
    "            q_date = date.strftime(\"%m/%d/%Y\")\n",
    "            prev_dist.append(len(crime_loc_df[crime_loc_df['CMPLNT_FR_DT'] == q_date]))\n",
    "        cum_prev_dist.append(prev_dist)\n",
    "        \n",
    "        for date in pd.date_range(license_time, periods=Period):\n",
    "            q_date = date.strftime(\"%m/%d/%Y\")\n",
    "            after_dist.append(len(crime_loc_df[crime_loc_df['CMPLNT_FR_DT'] == q_date]))\n",
    "            \n",
    "        cum_after_dist.append(after_dist)\n",
    "        # N = 60, statistic= 0.1753\n",
    "        # N = 30, statistic= 0.24170\n",
    "        if stats.ks_2samp(prev_dist, after_dist)[0] > 0.1753: # 95% CI, 30 days of samples. Reject Null Hypothesis (to be the same)\n",
    "            prev_skew = sum(prev_dist)\n",
    "            after_skew = sum(after_dist)      \n",
    "            if after_skew > prev_skew:\n",
    "                right_skew += 1\n",
    "            elif after_skew < prev_skew:\n",
    "                left_skew += 1\n",
    "            else:\n",
    "                equal += 1\n",
    "            diff += 1\n",
    "        else:\n",
    "            same += 1\n",
    "        pbar.update(1)"
   ]
  },
  {
   "cell_type": "code",
   "execution_count": 3,
   "metadata": {
    "scrolled": true
   },
   "outputs": [
    {
     "data": {
      "image/png": "[encoded data removed]",
      "text/plain": [
       "<Figure size 432x288 with 1 Axes>"
      ]
     },
     "metadata": {},
     "output_type": "display_data"
    },
    {
     "name": "stdout",
     "output_type": "stream",
     "text": [
      "Number of Results with same distribution: 3347\n",
      "Number of Results with hike: 1766\n",
      "Crime remained same for diff distributions: 0\n",
      "Crime decreased: 776\n",
      "Crime increase: 990\n"
     ]
    }
   ],
   "source": [
    "cum_prev_dist = np.array(cum_prev_dist)\n",
    "cum_prev_dist = np.array(cum_prev_dist).sum(axis=0)\n",
    "\n",
    "plt.plot(cum_prev_dist)\n",
    "plt.ylabel('Crime Before and After opening')\n",
    "cum_after_dist = np.array(cum_after_dist)\n",
    "cum_after_dist = np.array(cum_after_dist).sum(axis=0)\n",
    "plt.ylim(min(np.amin(cum_after_dist), np.amin(cum_prev_dist)), max(np.amax(cum_after_dist), np.amax(cum_prev_dist)))\n",
    "\n",
    "plt.plot(cum_after_dist)\n",
    "plt.show()\n",
    "print \"Number of Results with same distribution: \" + str(same)\n",
    "print \"Number of Results with hike: \" + str(diff)\n",
    "\n",
    "print \"Crime remained same for diff distributions: \" + str(equal)\n",
    "print \"Crime decreased: \" + str(left_skew)\n",
    "print \"Crime increase: \" + str(right_skew)\n",
    "        "
   ]
  },
  {
   "cell_type": "code",
   "execution_count": null,
   "metadata": {},
   "outputs": [],
   "source": []
  }
 ],
 "metadata": {
  "kernelspec": {
   "display_name": "Python 2",
   "language": "python",
   "name": "python2"
  },
  "language_info": {
   "codemirror_mode": {
    "name": "ipython",
    "version": 2
   },
   "file_extension": ".py",
   "mimetype": "text/x-python",
   "name": "python",
   "nbconvert_exporter": "python",
   "pygments_lexer": "ipython2",
   "version": "2.7.10"
  }
 },
 "nbformat": 4,
 "nbformat_minor": 2
}
